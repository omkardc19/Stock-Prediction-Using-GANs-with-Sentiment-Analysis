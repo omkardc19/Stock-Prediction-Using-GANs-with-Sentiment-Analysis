{
 "cells": [
  {
   "cell_type": "code",
   "execution_count": null,
   "metadata": {},
   "outputs": [],
   "source": [
    "# Import Libraries and Files\n",
    "import numpy as np\n",
    "import tensorflow as tf\n",
    "from tensorflow.keras.utils import plot_model\n",
    "# from model_building_5 import (  # Import functions from model_building.py\n",
    "#     make_generator_model,\n",
    "#     make_discriminator_model,\n",
    "#     discriminator_loss,\n",
    "#     generator_loss,\n",
    "#     train_step,\n",
    "#     train,\n",
    "#     eval_op,\n",
    "#     plot_results,\n",
    "#     plot_test_data\n",
    "# )\n",
    "\n",
    "\n"
   ]
  },
  {
   "cell_type": "code",
   "execution_count": 53,
   "metadata": {},
   "outputs": [],
   "source": [
    "# imports\n",
    "import numpy as np\n",
    "import tensorflow as tf\n",
    "from tensorflow.keras.layers import LSTM, Dense, Conv1D, LeakyReLU\n",
    "from tensorflow.keras.models import Sequential\n",
    "from sklearn.metrics import mean_squared_error\n",
    "import matplotlib.pyplot as plt\n",
    "from pickle import load\n",
    "import pandas as pd\n",
    "from tqdm import tqdm"
   ]
  },
  {
   "cell_type": "code",
   "execution_count": 62,
   "metadata": {},
   "outputs": [],
   "source": [
    "def make_generator_model(input_dim, output_dim, feature_size):\n",
    "    model = tf.keras.Sequential([LSTM(units = 1024, return_sequences = True, \n",
    "                                    input_shape=(input_dim, feature_size),recurrent_dropout = 0.3),\n",
    "                               LSTM(units = 512, return_sequences = True, recurrent_dropout = 0.3),\n",
    "                               LSTM(units = 256, return_sequences = True, recurrent_dropout = 0.3),\n",
    "                               LSTM(units = 128, return_sequences = True, recurrent_dropout = 0.3),\n",
    "                               LSTM(units = 64, recurrent_dropout = 0.3),\n",
    "                               Dense(32),\n",
    "                               Dense(16),\n",
    "                               Dense(8),\n",
    "                               Dense(units=output_dim)])\n",
    "    return model\n",
    "def make_discriminator_model(input_dim):\n",
    "    cnn_net = tf.keras.Sequential()\n",
    "    cnn_net.add(Conv1D(8, input_shape=(input_dim+1, 1), kernel_size=3, strides=2, padding='same', activation=LeakyReLU(alpha=0.01)))\n",
    "    cnn_net.add(Conv1D(16, kernel_size=3, strides=2, padding='same', activation=LeakyReLU(alpha=0.01)))\n",
    "    cnn_net.add(Conv1D(32, kernel_size=3, strides=2, padding='same', activation=LeakyReLU(alpha=0.01)))\n",
    "    cnn_net.add(Conv1D(64, kernel_size=3, strides=2, padding='same', activation=LeakyReLU(alpha=0.01)))\n",
    "    cnn_net.add(Conv1D(128, kernel_size=1, strides=2, padding='same', activation=LeakyReLU(alpha=0.01)))\n",
    "    cnn_net.add(LeakyReLU())\n",
    "    cnn_net.add(Dense(220, use_bias=False))\n",
    "    cnn_net.add(LeakyReLU())\n",
    "    cnn_net.add(Dense(220, use_bias=False, activation='relu'))\n",
    "    cnn_net.add(Dense(1, activation='sigmoid'))\n",
    "    return cnn_net\n",
    "def discriminator_loss(real_output, fake_output):\n",
    "    loss_f = tf.keras.losses.BinaryCrossentropy(from_logits=True)\n",
    "    real_loss = loss_f(tf.ones_like(real_output), real_output)\n",
    "    fake_loss = loss_f(tf.zeros_like(fake_output), fake_output)\n",
    "    total_loss = real_loss + fake_loss\n",
    "    return total_loss\n",
    "\n",
    "def generator_loss(fake_output):\n",
    "    loss_f = tf.keras.losses.BinaryCrossentropy(from_logits=True)\n",
    "    loss = loss_f(tf.ones_like(fake_output), fake_output)\n",
    "    return loss\n",
    "@tf.function\n",
    "\n",
    "def train_step(real_x, real_y, yc, generator, discriminator, g_optimizer, d_optimizer):\n",
    "    with tf.GradientTape() as gen_tape, tf.GradientTape() as disc_tape:\n",
    "        generated_data = generator(real_x, training=True)\n",
    "        generated_data_reshape = tf.reshape(generated_data, [generated_data.shape[0], generated_data.shape[1], 1])\n",
    "        d_fake_input = tf.concat([tf.cast(generated_data_reshape, tf.float64), yc], axis=1)\n",
    "        real_y_reshape = tf.reshape(real_y, [real_y.shape[0], real_y.shape[1], 1])\n",
    "        d_real_input = tf.concat([real_y_reshape, yc], axis=1)\n",
    "\n",
    "        real_output = discriminator(d_real_input, training=True)\n",
    "        fake_output = discriminator(d_fake_input, training=True)\n",
    "\n",
    "        g_loss = generator_loss(fake_output)\n",
    "        disc_loss = discriminator_loss(real_output, fake_output)\n",
    "\n",
    "    gradients_of_generator = gen_tape.gradient(g_loss, generator.trainable_variables)\n",
    "    gradients_of_discriminator = disc_tape.gradient(disc_loss, discriminator.trainable_variables)\n",
    "\n",
    "    g_optimizer.apply_gradients(zip(gradients_of_generator, generator.trainable_variables))\n",
    "    d_optimizer.apply_gradients(zip(gradients_of_discriminator, discriminator.trainable_variables))\n",
    "\n",
    "    return real_y, generated_data, {'d_loss': disc_loss, 'g_loss': g_loss}\n",
    "def train(real_x, real_y, yc, Epochs, generator, discriminator, g_optimizer, d_optimizer, checkpoint = 50):\n",
    "    def train(real_x, real_y, yc, Epochs, generator, discriminator, g_optimizer, d_optimizer, checkpoint=50):\n",
    "        \"\"\"\n",
    "        Trains a GAN model using the provided generator and discriminator.\n",
    "        Args:\n",
    "            real_x (numpy.ndarray): The input features for the real data.\n",
    "            real_y (numpy.ndarray): The target values for the real data.\n",
    "            yc (numpy.ndarray): Additional conditional data for the GAN.\n",
    "            Epochs (int): The number of epochs to train the model.\n",
    "            generator (tf.keras.Model): The generator model of the GAN.\n",
    "            discriminator (tf.keras.Model): The discriminator model of the GAN.\n",
    "            g_optimizer (tf.keras.optimizers.Optimizer): The optimizer for the generator.\n",
    "            d_optimizer (tf.keras.optimizers.Optimizer): The optimizer for the discriminator.\n",
    "            checkpoint (int, optional): The interval at which to save the model checkpoints. Defaults to 50.\n",
    "        Returns:\n",
    "            tuple: A tuple containing:\n",
    "                - Predicted_price (numpy.ndarray): The predicted prices generated by the generator.\n",
    "                - Real_price (numpy.ndarray): The actual real prices.\n",
    "                - float: The root mean squared error normalized by the mean of the real prices.\n",
    "        Notes:\n",
    "            - The function saves the generator and discriminator models at specified checkpoints.\n",
    "            - It also plots the discriminator and generator losses over the training epochs.\n",
    "        \"\"\"\n",
    "    train_info = {}\n",
    "    train_info[\"discriminator_loss\"] = []\n",
    "    train_info[\"generator_loss\"] = []\n",
    "\n",
    "    for epoch in tqdm(range(Epochs)):\n",
    "        real_price, fake_price, loss = train_step(real_x, real_y, yc, generator, discriminator, g_optimizer, d_optimizer)\n",
    "        G_losses = []\n",
    "        D_losses = []\n",
    "        Real_price = []\n",
    "        Predicted_price = []\n",
    "        D_losses.append(loss['d_loss'].numpy())\n",
    "        G_losses.append(loss['g_loss'].numpy())\n",
    "        Predicted_price.append(fake_price.numpy())\n",
    "        Real_price.append(real_price.numpy())\n",
    "\n",
    "        #Save model every X checkpoints\n",
    "        if (epoch + 1) % checkpoint == 0:\n",
    "            tf.keras.models.save_model(generator, f'./models_gan/{stock_name}/generator_V_%d.h5' % epoch)\n",
    "            tf.keras.models.save_model(discriminator, f'./models_gan/{stock_name}/discriminator_V_%d.h5' % epoch)\n",
    "            print('epoch', epoch + 1, 'discriminator_loss', loss['d_loss'].numpy(), 'generator_loss', loss['g_loss'].numpy())\n",
    "    \n",
    "        train_info[\"discriminator_loss\"].append(D_losses)\n",
    "        train_info[\"generator_loss\"].append(G_losses)\n",
    "  \n",
    "    Predicted_price = np.array(Predicted_price)\n",
    "    Predicted_price = Predicted_price.reshape(Predicted_price.shape[1], Predicted_price.shape[2])\n",
    "    Real_price = np.array(Real_price)\n",
    "    Real_price = Real_price.reshape(Real_price.shape[1], Real_price.shape[2])\n",
    "\n",
    "    plt.subplot(2,1,1)\n",
    "    plt.plot(train_info[\"discriminator_loss\"], label='Disc_loss', color='#000000')\n",
    "    plt.xlabel('Epoch')\n",
    "    plt.ylabel('Discriminator Loss')\n",
    "    plt.legend()\n",
    "\n",
    "    plt.subplot(2,1,2)\n",
    "    plt.plot(train_info[\"generator_loss\"], label='Gen_loss', color='#000000')\n",
    "    plt.xlabel('Epoch')\n",
    "    plt.ylabel('Generator Loss')\n",
    "    plt.legend()\n",
    "\n",
    "    plt.show()\n",
    "\n",
    "    return Predicted_price, Real_price, np.sqrt(mean_squared_error(Real_price, Predicted_price)) / np.mean(Real_price)\n",
    "def plot_results(Real_price, Predicted_price, index_train):\n",
    "    X_scaler = load(open('/content/X_scaler.pkl', 'rb'))\n",
    "    y_scaler = load(open('/content/y_scaler.pkl', 'rb'))\n",
    "    train_predict_index = index_train\n",
    "\n",
    "    rescaled_Real_price = y_scaler.inverse_transform(Real_price)\n",
    "    rescaled_Predicted_price = y_scaler.inverse_transform(Predicted_price)\n",
    "\n",
    "    predict_result = pd.DataFrame()\n",
    "    for i in range(rescaled_Predicted_price.shape[0]):\n",
    "        y_predict = pd.DataFrame(rescaled_Predicted_price[i], columns=[\"predicted_price\"], index=train_predict_index[i:i+output_dim])\n",
    "        predict_result = pd.concat([predict_result, y_predict], axis=1, sort=False)\n",
    "  \n",
    "    real_price = pd.DataFrame()\n",
    "    for i in range(rescaled_Real_price.shape[0]):\n",
    "        y_train = pd.DataFrame(rescaled_Real_price[i], columns=[\"real_price\"], index=train_predict_index[i:i+output_dim])\n",
    "        real_price = pd.concat([real_price, y_train], axis=1, sort=False)\n",
    "  \n",
    "    predict_result['predicted_mean'] = predict_result.mean(axis=1)\n",
    "    real_price['real_mean'] = real_price.mean(axis=1)\n",
    "\n",
    "    plt.figure(figsize=(16, 8))\n",
    "    plt.plot(real_price[\"real_mean\"])\n",
    "    plt.plot(predict_result[\"predicted_mean\"], color = 'r')\n",
    "    plt.xlabel(\"Date\")\n",
    "    plt.ylabel(\"Stock price\")\n",
    "    plt.legend((\"Real price\", \"Predicted price\"), loc=\"upper left\", fontsize=16)\n",
    "    plt.title(\"The result of Training\", fontsize=20)\n",
    "    plt.show()\n",
    "\n",
    "    predicted = predict_result[\"predicted_mean\"]\n",
    "    real = real_price[\"real_mean\"]\n",
    "    For_MSE = pd.concat([predicted, real], axis = 1)\n",
    "    RMSE = np.sqrt(mean_squared_error(predicted, real))\n",
    "    print('-- Train RMSE -- ', RMSE)\n",
    "## Test Code\n",
    "\n",
    "@tf.function \n",
    "def eval_op(generator, real_x):\n",
    "    generated_data = generator(real_x, training = False)\n",
    "\n",
    "    return generated_data\n",
    "def plot_test_data(Real_test_price, Predicted_test_price, index_test):\n",
    "    X_scaler = load(open('X_scaler.pkl', 'rb'))\n",
    "    y_scaler = load(open('y_scaler.pkl', 'rb'))\n",
    "    test_predict_index = index_test\n",
    "\n",
    "    rescaled_Real_price = y_scaler.inverse_transform(Real_test_price)\n",
    "    rescaled_Predicted_price = y_scaler.inverse_transform(Predicted_test_price)\n",
    "\n",
    "    predict_result = pd.DataFrame()\n",
    "    for i in range(rescaled_Predicted_price.shape[0]):\n",
    "        y_predict = pd.DataFrame(rescaled_Predicted_price[i], columns=[\"predicted_price\"], index=test_predict_index[i:i+output_dim])\n",
    "        predict_result = pd.concat([predict_result, y_predict], axis=1, sort=False)\n",
    "  \n",
    "    real_price = pd.DataFrame()\n",
    "    for i in range(rescaled_Real_price.shape[0]):\n",
    "        y_train = pd.DataFrame(rescaled_Real_price[i], columns=[\"real_price\"], index=test_predict_index[i:i+output_dim])\n",
    "        real_price = pd.concat([real_price, y_train], axis=1, sort=False)\n",
    "  \n",
    "    predict_result['predicted_mean'] = predict_result.mean(axis=1)\n",
    "    real_price['real_mean'] = real_price.mean(axis=1)\n",
    "\n",
    "    predicted = predict_result[\"predicted_mean\"]\n",
    "    real = real_price[\"real_mean\"]\n",
    "    For_MSE = pd.concat([predicted, real], axis = 1)\n",
    "    RMSE = np.sqrt(mean_squared_error(predicted, real))\n",
    "    print('Test RMSE: ', RMSE)\n",
    "    \n",
    "    plt.figure(figsize=(16, 8))\n",
    "    plt.plot(real_price[\"real_mean\"], color='#00008B')\n",
    "    plt.plot(predict_result[\"predicted_mean\"], color = '#8B0000', linestyle='--')\n",
    "    plt.xlabel(\"Date\")\n",
    "    plt.ylabel(\"Stock price\")\n",
    "    plt.legend((\"Real price\", \"Predicted price\"), loc=\"upper left\", fontsize=16)\n",
    "    plt.title(f\"Prediction on test data for {stock_name}\", fontsize=20)\n",
    "    plt.show()\n"
   ]
  },
  {
   "cell_type": "code",
   "execution_count": 63,
   "metadata": {},
   "outputs": [],
   "source": [
    "# Set the stock name for saving models and plots\n",
    "stock_name = \"AMZN\""
   ]
  },
  {
   "cell_type": "code",
   "execution_count": 64,
   "metadata": {},
   "outputs": [],
   "source": [
    "# Load the saved datasets\n",
    "X_train = np.load('./data/X_train.npy')\n",
    "X_test = np.load('./data/X_test.npy')\n",
    "y_train = np.load('./data/y_train.npy')\n",
    "y_test = np.load('./data/y_test.npy')\n",
    "yc_train = np.load('./data/yc_train.npy')\n",
    "yc_test = np.load('./data/yc_test.npy')\n",
    "\n"
   ]
  },
  {
   "cell_type": "code",
   "execution_count": 65,
   "metadata": {},
   "outputs": [
    {
     "name": "stdout",
     "output_type": "stream",
     "text": [
      "X_train shape: (207, 5, 15)\n",
      "X_test shape: (20, 5, 15)\n",
      "y_train shape: (207, 1)\n",
      "y_test shape: (20, 1)\n"
     ]
    }
   ],
   "source": [
    "# Define input dimensions\n",
    "input_dim = X_train.shape[1]  # Number of time steps (sequence length)\n",
    "feature_size = X_train.shape[2]  # Number of features in each time step\n",
    "output_dim = y_train.shape[1]  # Number of outputs to predict (forecasting horizon)\n",
    "\n",
    "print(f\"X_train shape: {X_train.shape}\")\n",
    "print(f\"X_test shape: {X_test.shape}\")\n",
    "print(f\"y_train shape: {y_train.shape}\")\n",
    "print(f\"y_test shape: {y_test.shape}\")"
   ]
  },
  {
   "cell_type": "code",
   "execution_count": 66,
   "metadata": {},
   "outputs": [],
   "source": [
    "# Define learning rate and optimizers\n",
    "learning_rate = 5e-4\n",
    "epochs = 5\n",
    "\n",
    "g_optimizer = tf.keras.optimizers.Adam(learning_rate=learning_rate)\n",
    "d_optimizer = tf.keras.optimizers.Adam(learning_rate=learning_rate)"
   ]
  },
  {
   "cell_type": "code",
   "execution_count": 67,
   "metadata": {},
   "outputs": [],
   "source": [
    "# Create the generator and discriminator models\n",
    "generator = make_generator_model(input_dim, output_dim, feature_size)\n",
    "discriminator = make_discriminator_model(input_dim)\n"
   ]
  },
  {
   "cell_type": "code",
   "execution_count": 68,
   "metadata": {},
   "outputs": [
    {
     "name": "stdout",
     "output_type": "stream",
     "text": [
      "You must install pydot (`pip install pydot`) and install graphviz (see instructions at https://graphviz.gitlab.io/download/) for plot_model to work.\n",
      "You must install pydot (`pip install pydot`) and install graphviz (see instructions at https://graphviz.gitlab.io/download/) for plot_model to work.\n"
     ]
    }
   ],
   "source": [
    "# Visualize model architectures\n",
    "plot_model(generator, to_file='generator_keras_model.png', show_shapes=True)\n",
    "plot_model(discriminator, to_file='discriminator_keras_model.png', show_shapes=True)"
   ]
  },
  {
   "cell_type": "code",
   "execution_count": 69,
   "metadata": {},
   "outputs": [
    {
     "name": "stderr",
     "output_type": "stream",
     "text": [
      "100%|██████████| 5/5 [00:15<00:00,  3.04s/it]\n"
     ]
    },
    {
     "data": {
      "image/png": "[encoded data removed]",
      "text/plain": [
       "<Figure size 640x480 with 2 Axes>"
      ]
     },
     "metadata": {},
     "output_type": "display_data"
    },
    {
     "name": "stdout",
     "output_type": "stream",
     "text": [
      "WARNING:tensorflow:Compiled the loaded model, but the compiled metrics have yet to be built. `model.compile_metrics` will be empty until you train or evaluate the model.\n",
      "WARNING:tensorflow:Compiled the loaded model, but the compiled metrics have yet to be built. `model.compile_metrics` will be empty until you train or evaluate the model.\n"
     ]
    }
   ],
   "source": [
    "# Train the GAN\n",
    "predicted_price, real_price, RMSPE = train(\n",
    "    X_train, y_train, yc_train, epochs, generator, discriminator, g_optimizer, d_optimizer\n",
    "    # , stock_name=stock_name\n",
    ")\n",
    "\n",
    "# Save the final models\n",
    "generator.save(f'./models_gan/{stock_name}/generator_final.h5')\n",
    "discriminator.save(f'./models_gan/{stock_name}/discriminator_final.h5')\n"
   ]
  },
  {
   "cell_type": "code",
   "execution_count": null,
   "metadata": {},
   "outputs": [],
   "source": [
    "\"C:\\Users\\Omkar\\Desktop\\Stock\\models_gan\\AMZN\\generator_V_449.h5\""
   ]
  },
  {
   "cell_type": "code",
   "execution_count": null,
   "metadata": {},
   "outputs": [],
   "source": []
  },
  {
   "cell_type": "code",
   "execution_count": 73,
   "metadata": {},
   "outputs": [
    {
     "name": "stdout",
     "output_type": "stream",
     "text": [
      "WARNING:tensorflow:No training configuration found in the save file, so the model was *not* compiled. Compile it manually.\n"
     ]
    },
    {
     "ename": "ModuleNotFoundError",
     "evalue": "No module named 'numpy._core'",
     "output_type": "error",
     "traceback": [
      "\u001b[1;31m---------------------------------------------------------------------------\u001b[0m",
      "\u001b[1;31mModuleNotFoundError\u001b[0m                       Traceback (most recent call last)",
      "Cell \u001b[1;32mIn[73], line 8\u001b[0m\n\u001b[0;32m      5\u001b[0m predicted_test_data \u001b[38;5;241m=\u001b[39m eval_op(test_generator, X_test)\n\u001b[0;32m      7\u001b[0m \u001b[38;5;66;03m# Plot the test results\u001b[39;00m\n\u001b[1;32m----> 8\u001b[0m \u001b[43mplot_test_data\u001b[49m\u001b[43m(\u001b[49m\u001b[43my_test\u001b[49m\u001b[43m,\u001b[49m\u001b[43m \u001b[49m\u001b[43mpredicted_test_data\u001b[49m\u001b[43m,\u001b[49m\u001b[43m \u001b[49m\u001b[43myc_test\u001b[49m\u001b[43m)\u001b[49m\n",
      "Cell \u001b[1;32mIn[62], line 170\u001b[0m, in \u001b[0;36mplot_test_data\u001b[1;34m(Real_test_price, Predicted_test_price, index_test)\u001b[0m\n\u001b[0;32m    169\u001b[0m \u001b[38;5;28;01mdef\u001b[39;00m \u001b[38;5;21mplot_test_data\u001b[39m(Real_test_price, Predicted_test_price, index_test):\n\u001b[1;32m--> 170\u001b[0m     X_scaler \u001b[38;5;241m=\u001b[39m \u001b[43mload\u001b[49m\u001b[43m(\u001b[49m\u001b[38;5;28;43mopen\u001b[39;49m\u001b[43m(\u001b[49m\u001b[38;5;124;43m'\u001b[39;49m\u001b[38;5;124;43mX_scaler.pkl\u001b[39;49m\u001b[38;5;124;43m'\u001b[39;49m\u001b[43m,\u001b[49m\u001b[43m \u001b[49m\u001b[38;5;124;43m'\u001b[39;49m\u001b[38;5;124;43mrb\u001b[39;49m\u001b[38;5;124;43m'\u001b[39;49m\u001b[43m)\u001b[49m\u001b[43m)\u001b[49m\n\u001b[0;32m    171\u001b[0m     y_scaler \u001b[38;5;241m=\u001b[39m load(\u001b[38;5;28mopen\u001b[39m(\u001b[38;5;124m'\u001b[39m\u001b[38;5;124my_scaler.pkl\u001b[39m\u001b[38;5;124m'\u001b[39m, \u001b[38;5;124m'\u001b[39m\u001b[38;5;124mrb\u001b[39m\u001b[38;5;124m'\u001b[39m))\n\u001b[0;32m    172\u001b[0m     test_predict_index \u001b[38;5;241m=\u001b[39m index_test\n",
      "\u001b[1;31mModuleNotFoundError\u001b[0m: No module named 'numpy._core'"
     ]
    }
   ],
   "source": [
    "# Load the trained generator model\n",
    "test_generator = tf.keras.models.load_model(f'./models_gan/AMZN/generator_V_499.h5')\n",
    "\n",
    "# Generate predictions on the test dataset\n",
    "predicted_test_data = eval_op(test_generator, X_test)\n",
    "\n",
    "# Plot the test results\n",
    "plot_test_data(y_test, predicted_test_data, yc_test)\n"
   ]
  },
  {
   "cell_type": "code",
   "execution_count": null,
   "metadata": {},
   "outputs": [],
   "source": []
  }
 ],
 "metadata": {
  "kernelspec": {
   "display_name": "stock_env",
   "language": "python",
   "name": "python3"
  },
  "language_info": {
   "codemirror_mode": {
    "name": "ipython",
    "version": 3
   },
   "file_extension": ".py",
   "mimetype": "text/x-python",
   "name": "python",
   "nbconvert_exporter": "python",
   "pygments_lexer": "ipython3",
   "version": "3.10.7"
  }
 },
 "nbformat": 4,
 "nbformat_minor": 2
}
