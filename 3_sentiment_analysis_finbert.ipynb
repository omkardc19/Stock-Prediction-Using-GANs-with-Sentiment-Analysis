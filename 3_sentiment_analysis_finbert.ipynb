{
 "cells": [
  {
   "cell_type": "code",
   "execution_count": 4,
   "metadata": {},
   "outputs": [
    {
     "data": {
      "text/html": [
       "<div>\n",
       "<style scoped>\n",
       "    .dataframe tbody tr th:only-of-type {\n",
       "        vertical-align: middle;\n",
       "    }\n",
       "\n",
       "    .dataframe tbody tr th {\n",
       "        vertical-align: top;\n",
       "    }\n",
       "\n",
       "    .dataframe thead th {\n",
       "        text-align: right;\n",
       "    }\n",
       "</style>\n",
       "<table border=\"1\" class=\"dataframe\">\n",
       "  <thead>\n",
       "    <tr style=\"text-align: right;\">\n",
       "      <th></th>\n",
       "      <th>Date</th>\n",
       "      <th>Tweet</th>\n",
       "    </tr>\n",
       "  </thead>\n",
       "  <tbody>\n",
       "    <tr>\n",
       "      <th>0</th>\n",
       "      <td>2022-09-29 22:40:47+00:00</td>\n",
       "      <td>A group of lawmakers led by Sen. Elizabeth War...</td>\n",
       "    </tr>\n",
       "    <tr>\n",
       "      <th>1</th>\n",
       "      <td>2022-09-29 22:23:54+00:00</td>\n",
       "      <td>$NIO just because I'm down money doesn't mean ...</td>\n",
       "    </tr>\n",
       "    <tr>\n",
       "      <th>2</th>\n",
       "      <td>2022-09-29 18:34:51+00:00</td>\n",
       "      <td>Today’s drop in $SPX is a perfect example of w...</td>\n",
       "    </tr>\n",
       "    <tr>\n",
       "      <th>3</th>\n",
       "      <td>2022-09-29 15:57:59+00:00</td>\n",
       "      <td>Druckenmiller owned $CVNA this year \\nMunger b...</td>\n",
       "    </tr>\n",
       "    <tr>\n",
       "      <th>4</th>\n",
       "      <td>2022-09-29 15:10:30+00:00</td>\n",
       "      <td>Top 10 $QQQ Holdings \\n\\nAnd Credit Rating\\n\\n...</td>\n",
       "    </tr>\n",
       "  </tbody>\n",
       "</table>\n",
       "</div>"
      ],
      "text/plain": [
       "                        Date  \\\n",
       "0  2022-09-29 22:40:47+00:00   \n",
       "1  2022-09-29 22:23:54+00:00   \n",
       "2  2022-09-29 18:34:51+00:00   \n",
       "3  2022-09-29 15:57:59+00:00   \n",
       "4  2022-09-29 15:10:30+00:00   \n",
       "\n",
       "                                               Tweet  \n",
       "0  A group of lawmakers led by Sen. Elizabeth War...  \n",
       "1  $NIO just because I'm down money doesn't mean ...  \n",
       "2  Today’s drop in $SPX is a perfect example of w...  \n",
       "3  Druckenmiller owned $CVNA this year \\nMunger b...  \n",
       "4  Top 10 $QQQ Holdings \\n\\nAnd Credit Rating\\n\\n...  "
      ]
     },
     "execution_count": 4,
     "metadata": {},
     "output_type": "execute_result"
    }
   ],
   "source": [
    "# Load the cleaned tweet data\n",
    "tweet_df = pd.read_csv(\"./data/AMZN_tweets.csv\")  # Replace with your file path\n",
    "tweet_df.head()"
   ]
  },
  {
   "cell_type": "code",
   "execution_count": 5,
   "metadata": {},
   "outputs": [],
   "source": [
    "def FinBERT_sentiment_score(text):\n",
    "    \"\"\"\n",
    "    Compute sentiment score using pretrained FinBERT on -1 to 1 scale. \n",
    "    -1 being negative and 1 being positive.\n",
    "    \"\"\"\n",
    "    tokenizer = AutoTokenizer.from_pretrained('ProsusAI/finbert')\n",
    "    finbert = AutoModelForSequenceClassification.from_pretrained('ProsusAI/finbert')\n",
    "    nlp = pipeline(\"sentiment-analysis\", model=finbert, tokenizer=tokenizer, device=device)  # GPU support added\n",
    "\n",
    "    # Perform sentiment analysis\n",
    "    result = nlp(text)\n",
    "    if result[0][\"label\"] == \"positive\":\n",
    "        return result[0][\"score\"]\n",
    "    elif result[0][\"label\"] == \"negative\":\n",
    "        return -result[0][\"score\"]\n",
    "    else:\n",
    "        return 0\n",
    "\n"
   ]
  },
  {
   "cell_type": "code",
   "execution_count": null,
   "metadata": {},
   "outputs": [],
   "source": [
    "# Add sentiment scores to the DataFrame\n",
    "tweet_df['FinBERT score'] = tweet_sentiments\n",
    "\n",
    "# Save the results to a CSV file\n",
    "tweet_df.to_csv(\"tweet_sentiment_results.csv\", index=False)\n",
    "\n",
    "print(\"Sentiment analysis completed. Results saved to 'tweet_sentiment_results.csv'.\")"
   ]
  },
  {
   "cell_type": "code",
   "execution_count": null,
   "metadata": {},
   "outputs": [
    {
     "name": "stderr",
     "output_type": "stream",
     "text": [
      "Processing tweets:  98%|█████████▊| 3992/4089 [1:14:00<01:50,  1.13s/tweet]  "
     ]
    }
   ],
   "source": [
    "import pandas as pd\n",
    "import torch\n",
    "from transformers import AutoTokenizer, AutoModelForSequenceClassification, pipeline\n",
    "from tqdm import tqdm  # Import tqdm for progress tracking\n",
    "\n",
    "# Check for GPU availability\n",
    "device = 0 if torch.cuda.is_available() else -1  # Use GPU if available\n",
    "\n",
    "# Load the cleaned tweet data\n",
    "tweet_df = pd.read_csv(\"./data/AMZN_tweets.csv\")  # Replace with your file path\n",
    "tweet_df.head()\n",
    "\n",
    "def FinBERT_sentiment_score(text):\n",
    "    \"\"\"\n",
    "    Compute sentiment score using pretrained FinBERT on -1 to 1 scale. \n",
    "    -1 being negative and 1 being positive.\n",
    "    \"\"\"\n",
    "    tokenizer = AutoTokenizer.from_pretrained('ProsusAI/finbert')\n",
    "    finbert = AutoModelForSequenceClassification.from_pretrained('ProsusAI/finbert')\n",
    "    nlp = pipeline(\"sentiment-analysis\", model=finbert, tokenizer=tokenizer, device=device)  # GPU support added\n",
    "\n",
    "    # Perform sentiment analysis\n",
    "    result = nlp(text)\n",
    "    if result[0][\"label\"] == \"positive\":\n",
    "        return result[0][\"score\"]\n",
    "    elif result[0][\"label\"] == \"negative\":\n",
    "        return -result[0][\"score\"]\n",
    "    else:\n",
    "        return 0\n",
    "\n",
    "# Apply FinBERT sentiment analysis to tweets with progress tracking\n",
    "tweet_sentiments = []\n",
    "for tweet in tqdm(tweet_df['Tweet'], desc=\"Processing tweets\", unit=\"tweet\"):\n",
    "    if isinstance(tweet, str) and tweet.strip():  # Ensure the tweet is a valid non-empty string\n",
    "        score = FinBERT_sentiment_score(tweet)\n",
    "        tweet_sentiments.append(score)\n",
    "    else:\n",
    "        tweet_sentiments.append(0)  # Default to neutral if tweet is empty or invalid\n",
    "\n",
    "# Add sentiment scores to the DataFrame\n",
    "tweet_df['FinBERT score'] = tweet_sentiments\n",
    "\n",
    "# Save the results to a CSV file\n",
    "tweet_df.to_csv(\"tweet_sentiment_results.csv\", index=False)\n",
    "\n",
    "print(\"Sentiment analysis completed. Results saved to 'tweet_sentiment_results.csv'.\")\n"
   ]
  },
  {
   "cell_type": "code",
   "execution_count": null,
   "metadata": {},
   "outputs": [],
   "source": []
  }
 ],
 "metadata": {
  "kernelspec": {
   "display_name": "stock_bert",
   "language": "python",
   "name": "python3"
  },
  "language_info": {
   "codemirror_mode": {
    "name": "ipython",
    "version": 3
   },
   "file_extension": ".py",
   "mimetype": "text/x-python",
   "name": "python",
   "nbconvert_exporter": "python",
   "pygments_lexer": "ipython3",
   "version": "3.10.7"
  }
 },
 "nbformat": 4,
 "nbformat_minor": 2
}
